{
  "nbformat": 4,
  "nbformat_minor": 0,
  "metadata": {
    "colab": {
      "name": "AshTutor.ipynb",
      "provenance": []
    },
    "kernelspec": {
      "name": "python3",
      "display_name": "Python 3"
    },
    "language_info": {
      "name": "python"
    }
  },
  "cells": [
    {
      "cell_type": "code",
      "metadata": {
        "id": "sAb9efXYwiMx",
        "colab": {
          "base_uri": "https://localhost:8080/"
        },
        "outputId": "55e1113e-6efd-42b3-d654-08ce7095bfec"
      },
      "source": [
        "import pandas as pd\n",
        "import numpy as np\n",
        "import math \n",
        "import string\n",
        "import nltk\n",
        "nltk.download('stopwords')"
      ],
      "execution_count": 147,
      "outputs": [
        {
          "output_type": "stream",
          "text": [
            "[nltk_data] Downloading package stopwords to /root/nltk_data...\n",
            "[nltk_data]   Package stopwords is already up-to-date!\n"
          ],
          "name": "stdout"
        },
        {
          "output_type": "execute_result",
          "data": {
            "text/plain": [
              "True"
            ]
          },
          "metadata": {
            "tags": []
          },
          "execution_count": 147
        }
      ]
    },
    {
      "cell_type": "code",
      "metadata": {
        "id": "ux5UoC0iztRs"
      },
      "source": [
        "url = 'https://raw.githubusercontent.com/PersieB/AshTutor/master/reviews.csv'\n",
        "dataset = pd.read_csv(url)"
      ],
      "execution_count": 148,
      "outputs": []
    },
    {
      "cell_type": "code",
      "metadata": {
        "colab": {
          "base_uri": "https://localhost:8080/",
          "height": 639
        },
        "id": "-6uXy-cZ2WhQ",
        "outputId": "e636ddf1-996f-422d-9ef8-1376ccc02768"
      },
      "source": [
        "dataset.head(20)"
      ],
      "execution_count": 149,
      "outputs": [
        {
          "output_type": "execute_result",
          "data": {
            "text/html": [
              "<div>\n",
              "<style scoped>\n",
              "    .dataframe tbody tr th:only-of-type {\n",
              "        vertical-align: middle;\n",
              "    }\n",
              "\n",
              "    .dataframe tbody tr th {\n",
              "        vertical-align: top;\n",
              "    }\n",
              "\n",
              "    .dataframe thead th {\n",
              "        text-align: right;\n",
              "    }\n",
              "</style>\n",
              "<table border=\"1\" class=\"dataframe\">\n",
              "  <thead>\n",
              "    <tr style=\"text-align: right;\">\n",
              "      <th></th>\n",
              "      <th>Id</th>\n",
              "      <th>Review</th>\n",
              "      <th>Label</th>\n",
              "    </tr>\n",
              "  </thead>\n",
              "  <tbody>\n",
              "    <tr>\n",
              "      <th>0</th>\n",
              "      <td>0</td>\n",
              "      <td>good and interesting</td>\n",
              "      <td>5</td>\n",
              "    </tr>\n",
              "    <tr>\n",
              "      <th>1</th>\n",
              "      <td>1</td>\n",
              "      <td>This class is very helpful to me. Currently, I...</td>\n",
              "      <td>5</td>\n",
              "    </tr>\n",
              "    <tr>\n",
              "      <th>2</th>\n",
              "      <td>2</td>\n",
              "      <td>like!Prof and TAs are helpful and the discussi...</td>\n",
              "      <td>5</td>\n",
              "    </tr>\n",
              "    <tr>\n",
              "      <th>3</th>\n",
              "      <td>3</td>\n",
              "      <td>Easy to follow and includes a lot basic and im...</td>\n",
              "      <td>5</td>\n",
              "    </tr>\n",
              "    <tr>\n",
              "      <th>4</th>\n",
              "      <td>4</td>\n",
              "      <td>Really nice teacher!I could got the point eazl...</td>\n",
              "      <td>4</td>\n",
              "    </tr>\n",
              "    <tr>\n",
              "      <th>5</th>\n",
              "      <td>5</td>\n",
              "      <td>Great course - I recommend it for all, especia...</td>\n",
              "      <td>5</td>\n",
              "    </tr>\n",
              "    <tr>\n",
              "      <th>6</th>\n",
              "      <td>6</td>\n",
              "      <td>One of the most useful course on IT Management!</td>\n",
              "      <td>5</td>\n",
              "    </tr>\n",
              "    <tr>\n",
              "      <th>7</th>\n",
              "      <td>7</td>\n",
              "      <td>I was disappointed because the name is mislead...</td>\n",
              "      <td>3</td>\n",
              "    </tr>\n",
              "    <tr>\n",
              "      <th>8</th>\n",
              "      <td>8</td>\n",
              "      <td>Super content. I'll definitely re-do the course</td>\n",
              "      <td>5</td>\n",
              "    </tr>\n",
              "    <tr>\n",
              "      <th>9</th>\n",
              "      <td>9</td>\n",
              "      <td>One of the excellent courses at Coursera for i...</td>\n",
              "      <td>5</td>\n",
              "    </tr>\n",
              "    <tr>\n",
              "      <th>10</th>\n",
              "      <td>10</td>\n",
              "      <td>Is there any reason why you should not apply t...</td>\n",
              "      <td>5</td>\n",
              "    </tr>\n",
              "    <tr>\n",
              "      <th>11</th>\n",
              "      <td>11</td>\n",
              "      <td>Excellent course and teachers. Congratulations!!</td>\n",
              "      <td>5</td>\n",
              "    </tr>\n",
              "    <tr>\n",
              "      <th>12</th>\n",
              "      <td>12</td>\n",
              "      <td>This is a good course for an CIO in a non tech...</td>\n",
              "      <td>5</td>\n",
              "    </tr>\n",
              "    <tr>\n",
              "      <th>13</th>\n",
              "      <td>13</td>\n",
              "      <td>Good content, but the course setting does (at ...</td>\n",
              "      <td>3</td>\n",
              "    </tr>\n",
              "    <tr>\n",
              "      <th>14</th>\n",
              "      <td>14</td>\n",
              "      <td>Very structured approach. Thank you for sharin...</td>\n",
              "      <td>5</td>\n",
              "    </tr>\n",
              "    <tr>\n",
              "      <th>15</th>\n",
              "      <td>15</td>\n",
              "      <td>Program demystifies the evolving world of CIOs...</td>\n",
              "      <td>4</td>\n",
              "    </tr>\n",
              "    <tr>\n",
              "      <th>16</th>\n",
              "      <td>16</td>\n",
              "      <td>Very relevant and useful course designed for CIOs</td>\n",
              "      <td>5</td>\n",
              "    </tr>\n",
              "    <tr>\n",
              "      <th>17</th>\n",
              "      <td>17</td>\n",
              "      <td>This course does not say anything about digiti...</td>\n",
              "      <td>2</td>\n",
              "    </tr>\n",
              "    <tr>\n",
              "      <th>18</th>\n",
              "      <td>18</td>\n",
              "      <td>Videos that are presented in French could've b...</td>\n",
              "      <td>4</td>\n",
              "    </tr>\n",
              "    <tr>\n",
              "      <th>19</th>\n",
              "      <td>19</td>\n",
              "      <td>The course content is quite good, though it co...</td>\n",
              "      <td>3</td>\n",
              "    </tr>\n",
              "  </tbody>\n",
              "</table>\n",
              "</div>"
            ],
            "text/plain": [
              "    Id                                             Review  Label\n",
              "0    0                               good and interesting      5\n",
              "1    1  This class is very helpful to me. Currently, I...      5\n",
              "2    2  like!Prof and TAs are helpful and the discussi...      5\n",
              "3    3  Easy to follow and includes a lot basic and im...      5\n",
              "4    4  Really nice teacher!I could got the point eazl...      4\n",
              "5    5  Great course - I recommend it for all, especia...      5\n",
              "6    6    One of the most useful course on IT Management!      5\n",
              "7    7  I was disappointed because the name is mislead...      3\n",
              "8    8    Super content. I'll definitely re-do the course      5\n",
              "9    9  One of the excellent courses at Coursera for i...      5\n",
              "10  10  Is there any reason why you should not apply t...      5\n",
              "11  11   Excellent course and teachers. Congratulations!!      5\n",
              "12  12  This is a good course for an CIO in a non tech...      5\n",
              "13  13  Good content, but the course setting does (at ...      3\n",
              "14  14  Very structured approach. Thank you for sharin...      5\n",
              "15  15  Program demystifies the evolving world of CIOs...      4\n",
              "16  16  Very relevant and useful course designed for CIOs      5\n",
              "17  17  This course does not say anything about digiti...      2\n",
              "18  18  Videos that are presented in French could've b...      4\n",
              "19  19  The course content is quite good, though it co...      3"
            ]
          },
          "metadata": {
            "tags": []
          },
          "execution_count": 149
        }
      ]
    },
    {
      "cell_type": "code",
      "metadata": {
        "colab": {
          "base_uri": "https://localhost:8080/",
          "height": 195
        },
        "id": "iD0_CRwL6K3T",
        "outputId": "21e4bcbd-ba5a-418a-d0d8-c37b93127d93"
      },
      "source": [
        "dataset.tail()"
      ],
      "execution_count": 150,
      "outputs": [
        {
          "output_type": "execute_result",
          "data": {
            "text/html": [
              "<div>\n",
              "<style scoped>\n",
              "    .dataframe tbody tr th:only-of-type {\n",
              "        vertical-align: middle;\n",
              "    }\n",
              "\n",
              "    .dataframe tbody tr th {\n",
              "        vertical-align: top;\n",
              "    }\n",
              "\n",
              "    .dataframe thead th {\n",
              "        text-align: right;\n",
              "    }\n",
              "</style>\n",
              "<table border=\"1\" class=\"dataframe\">\n",
              "  <thead>\n",
              "    <tr style=\"text-align: right;\">\n",
              "      <th></th>\n",
              "      <th>Id</th>\n",
              "      <th>Review</th>\n",
              "      <th>Label</th>\n",
              "    </tr>\n",
              "  </thead>\n",
              "  <tbody>\n",
              "    <tr>\n",
              "      <th>107013</th>\n",
              "      <td>107013</td>\n",
              "      <td>Trendy topic with talks from expertises in the...</td>\n",
              "      <td>4</td>\n",
              "    </tr>\n",
              "    <tr>\n",
              "      <th>107014</th>\n",
              "      <td>107014</td>\n",
              "      <td>Wonderful! Simple and clear language, good ins...</td>\n",
              "      <td>5</td>\n",
              "    </tr>\n",
              "    <tr>\n",
              "      <th>107015</th>\n",
              "      <td>107015</td>\n",
              "      <td>an interesting and fun course. thanks. dr quincy</td>\n",
              "      <td>5</td>\n",
              "    </tr>\n",
              "    <tr>\n",
              "      <th>107016</th>\n",
              "      <td>107016</td>\n",
              "      <td>very broad perspective, up to date information...</td>\n",
              "      <td>4</td>\n",
              "    </tr>\n",
              "    <tr>\n",
              "      <th>107017</th>\n",
              "      <td>107017</td>\n",
              "      <td>An informative course on the social and financ...</td>\n",
              "      <td>4</td>\n",
              "    </tr>\n",
              "  </tbody>\n",
              "</table>\n",
              "</div>"
            ],
            "text/plain": [
              "            Id                                             Review  Label\n",
              "107013  107013  Trendy topic with talks from expertises in the...      4\n",
              "107014  107014  Wonderful! Simple and clear language, good ins...      5\n",
              "107015  107015   an interesting and fun course. thanks. dr quincy      5\n",
              "107016  107016  very broad perspective, up to date information...      4\n",
              "107017  107017  An informative course on the social and financ...      4"
            ]
          },
          "metadata": {
            "tags": []
          },
          "execution_count": 150
        }
      ]
    },
    {
      "cell_type": "code",
      "metadata": {
        "id": "yuQIhzUz3j7r"
      },
      "source": [
        "def recode(label):\n",
        "  if label<=2:\n",
        "    new = 0\n",
        "    label=new\n",
        "  else:\n",
        "    new = 1\n",
        "    label=new\n",
        "  return label"
      ],
      "execution_count": 151,
      "outputs": []
    },
    {
      "cell_type": "code",
      "metadata": {
        "colab": {
          "base_uri": "https://localhost:8080/"
        },
        "id": "bdDtfI35APzb",
        "outputId": "0d346fc0-a8ae-44b8-bcfa-151497add577"
      },
      "source": [
        "dataset.count()"
      ],
      "execution_count": 152,
      "outputs": [
        {
          "output_type": "execute_result",
          "data": {
            "text/plain": [
              "Id        107018\n",
              "Review    107018\n",
              "Label     107018\n",
              "dtype: int64"
            ]
          },
          "metadata": {
            "tags": []
          },
          "execution_count": 152
        }
      ]
    },
    {
      "cell_type": "code",
      "metadata": {
        "colab": {
          "base_uri": "https://localhost:8080/"
        },
        "id": "2-MYitWUAXE6",
        "outputId": "3d2a10d7-1bdd-4518-cce1-637f418e424c"
      },
      "source": [
        "dataset['Label'].value_counts()"
      ],
      "execution_count": 153,
      "outputs": [
        {
          "output_type": "execute_result",
          "data": {
            "text/plain": [
              "5    79173\n",
              "4    18054\n",
              "3     5071\n",
              "1     2469\n",
              "2     2251\n",
              "Name: Label, dtype: int64"
            ]
          },
          "metadata": {
            "tags": []
          },
          "execution_count": 153
        }
      ]
    },
    {
      "cell_type": "markdown",
      "metadata": {
        "id": "L89tTMnbIKej"
      },
      "source": [
        "Data Splitted into Training and Test"
      ]
    },
    {
      "cell_type": "code",
      "metadata": {
        "id": "8v69t29jINh2"
      },
      "source": [
        "training_set = pd.read_csv('https://raw.githubusercontent.com/PersieB/AshTutor/master/Training_set.csv')\n"
      ],
      "execution_count": 154,
      "outputs": []
    },
    {
      "cell_type": "code",
      "metadata": {
        "id": "AQIvc6bOI2K0"
      },
      "source": [
        "training_set['Label'] = training_set['Label'].apply(recode)"
      ],
      "execution_count": 134,
      "outputs": []
    },
    {
      "cell_type": "code",
      "metadata": {
        "colab": {
          "base_uri": "https://localhost:8080/",
          "height": 195
        },
        "id": "jmj59F9vI_xx",
        "outputId": "34bf2dc1-b474-487b-c6c0-576080104153"
      },
      "source": [
        "training_set.head()"
      ],
      "execution_count": 155,
      "outputs": [
        {
          "output_type": "execute_result",
          "data": {
            "text/html": [
              "<div>\n",
              "<style scoped>\n",
              "    .dataframe tbody tr th:only-of-type {\n",
              "        vertical-align: middle;\n",
              "    }\n",
              "\n",
              "    .dataframe tbody tr th {\n",
              "        vertical-align: top;\n",
              "    }\n",
              "\n",
              "    .dataframe thead th {\n",
              "        text-align: right;\n",
              "    }\n",
              "</style>\n",
              "<table border=\"1\" class=\"dataframe\">\n",
              "  <thead>\n",
              "    <tr style=\"text-align: right;\">\n",
              "      <th></th>\n",
              "      <th>Id</th>\n",
              "      <th>Review</th>\n",
              "      <th>Label</th>\n",
              "    </tr>\n",
              "  </thead>\n",
              "  <tbody>\n",
              "    <tr>\n",
              "      <th>0</th>\n",
              "      <td>0</td>\n",
              "      <td>good and interesting</td>\n",
              "      <td>5</td>\n",
              "    </tr>\n",
              "    <tr>\n",
              "      <th>1</th>\n",
              "      <td>1</td>\n",
              "      <td>This class is very helpful to me. Currently, I...</td>\n",
              "      <td>5</td>\n",
              "    </tr>\n",
              "    <tr>\n",
              "      <th>2</th>\n",
              "      <td>2</td>\n",
              "      <td>like!Prof and TAs are helpful and the discussi...</td>\n",
              "      <td>5</td>\n",
              "    </tr>\n",
              "    <tr>\n",
              "      <th>3</th>\n",
              "      <td>3</td>\n",
              "      <td>Easy to follow and includes a lot basic and im...</td>\n",
              "      <td>5</td>\n",
              "    </tr>\n",
              "    <tr>\n",
              "      <th>4</th>\n",
              "      <td>4</td>\n",
              "      <td>Really nice teacher!I could got the point eazl...</td>\n",
              "      <td>4</td>\n",
              "    </tr>\n",
              "  </tbody>\n",
              "</table>\n",
              "</div>"
            ],
            "text/plain": [
              "   Id                                             Review  Label\n",
              "0   0                               good and interesting      5\n",
              "1   1  This class is very helpful to me. Currently, I...      5\n",
              "2   2  like!Prof and TAs are helpful and the discussi...      5\n",
              "3   3  Easy to follow and includes a lot basic and im...      5\n",
              "4   4  Really nice teacher!I could got the point eazl...      4"
            ]
          },
          "metadata": {
            "tags": []
          },
          "execution_count": 155
        }
      ]
    },
    {
      "cell_type": "code",
      "metadata": {
        "colab": {
          "base_uri": "https://localhost:8080/"
        },
        "id": "kDP8hnfCJLa4",
        "outputId": "482a7d48-71c6-49a0-9bc6-990f5b1319dc"
      },
      "source": [
        "training_set.count()"
      ],
      "execution_count": 156,
      "outputs": [
        {
          "output_type": "execute_result",
          "data": {
            "text/plain": [
              "Id        85614\n",
              "Review    85614\n",
              "Label     85614\n",
              "dtype: int64"
            ]
          },
          "metadata": {
            "tags": []
          },
          "execution_count": 156
        }
      ]
    },
    {
      "cell_type": "code",
      "metadata": {
        "colab": {
          "base_uri": "https://localhost:8080/",
          "height": 195
        },
        "id": "kbgy4JAmIaFf",
        "outputId": "f37cb0c3-4fb9-43a0-f1bb-d79b91d37cbb"
      },
      "source": [
        "test = pd.read_csv('https://raw.githubusercontent.com/PersieB/AshTutor/master/Test_set.csv')\n",
        "test.head()"
      ],
      "execution_count": 157,
      "outputs": [
        {
          "output_type": "execute_result",
          "data": {
            "text/html": [
              "<div>\n",
              "<style scoped>\n",
              "    .dataframe tbody tr th:only-of-type {\n",
              "        vertical-align: middle;\n",
              "    }\n",
              "\n",
              "    .dataframe tbody tr th {\n",
              "        vertical-align: top;\n",
              "    }\n",
              "\n",
              "    .dataframe thead th {\n",
              "        text-align: right;\n",
              "    }\n",
              "</style>\n",
              "<table border=\"1\" class=\"dataframe\">\n",
              "  <thead>\n",
              "    <tr style=\"text-align: right;\">\n",
              "      <th></th>\n",
              "      <th>Id</th>\n",
              "      <th>Review</th>\n",
              "      <th>Label</th>\n",
              "    </tr>\n",
              "  </thead>\n",
              "  <tbody>\n",
              "    <tr>\n",
              "      <th>0</th>\n",
              "      <td>85614</td>\n",
              "      <td>wonderful experience</td>\n",
              "      <td>5</td>\n",
              "    </tr>\n",
              "    <tr>\n",
              "      <th>1</th>\n",
              "      <td>85615</td>\n",
              "      <td>I took this course about 10 years off the coll...</td>\n",
              "      <td>5</td>\n",
              "    </tr>\n",
              "    <tr>\n",
              "      <th>2</th>\n",
              "      <td>85616</td>\n",
              "      <td>This series is really the course you need to t...</td>\n",
              "      <td>5</td>\n",
              "    </tr>\n",
              "    <tr>\n",
              "      <th>3</th>\n",
              "      <td>85617</td>\n",
              "      <td>Not as good as part (a). But still a great class!</td>\n",
              "      <td>4</td>\n",
              "    </tr>\n",
              "    <tr>\n",
              "      <th>4</th>\n",
              "      <td>85618</td>\n",
              "      <td>Incredible continuation of an already amazing ...</td>\n",
              "      <td>5</td>\n",
              "    </tr>\n",
              "  </tbody>\n",
              "</table>\n",
              "</div>"
            ],
            "text/plain": [
              "      Id                                             Review  Label\n",
              "0  85614                               wonderful experience      5\n",
              "1  85615  I took this course about 10 years off the coll...      5\n",
              "2  85616  This series is really the course you need to t...      5\n",
              "3  85617  Not as good as part (a). But still a great class!      4\n",
              "4  85618  Incredible continuation of an already amazing ...      5"
            ]
          },
          "metadata": {
            "tags": []
          },
          "execution_count": 157
        }
      ]
    },
    {
      "cell_type": "code",
      "metadata": {
        "id": "djtmGzCyJS1J"
      },
      "source": [
        "test['Label'] = test['Label'].apply(recode)"
      ],
      "execution_count": 158,
      "outputs": []
    },
    {
      "cell_type": "code",
      "metadata": {
        "colab": {
          "base_uri": "https://localhost:8080/",
          "height": 195
        },
        "id": "j_j6hSFfJYch",
        "outputId": "204a4385-0d2d-4bb4-f522-13ab1d585a90"
      },
      "source": [
        "test.head()"
      ],
      "execution_count": 159,
      "outputs": [
        {
          "output_type": "execute_result",
          "data": {
            "text/html": [
              "<div>\n",
              "<style scoped>\n",
              "    .dataframe tbody tr th:only-of-type {\n",
              "        vertical-align: middle;\n",
              "    }\n",
              "\n",
              "    .dataframe tbody tr th {\n",
              "        vertical-align: top;\n",
              "    }\n",
              "\n",
              "    .dataframe thead th {\n",
              "        text-align: right;\n",
              "    }\n",
              "</style>\n",
              "<table border=\"1\" class=\"dataframe\">\n",
              "  <thead>\n",
              "    <tr style=\"text-align: right;\">\n",
              "      <th></th>\n",
              "      <th>Id</th>\n",
              "      <th>Review</th>\n",
              "      <th>Label</th>\n",
              "    </tr>\n",
              "  </thead>\n",
              "  <tbody>\n",
              "    <tr>\n",
              "      <th>0</th>\n",
              "      <td>85614</td>\n",
              "      <td>wonderful experience</td>\n",
              "      <td>1</td>\n",
              "    </tr>\n",
              "    <tr>\n",
              "      <th>1</th>\n",
              "      <td>85615</td>\n",
              "      <td>I took this course about 10 years off the coll...</td>\n",
              "      <td>1</td>\n",
              "    </tr>\n",
              "    <tr>\n",
              "      <th>2</th>\n",
              "      <td>85616</td>\n",
              "      <td>This series is really the course you need to t...</td>\n",
              "      <td>1</td>\n",
              "    </tr>\n",
              "    <tr>\n",
              "      <th>3</th>\n",
              "      <td>85617</td>\n",
              "      <td>Not as good as part (a). But still a great class!</td>\n",
              "      <td>1</td>\n",
              "    </tr>\n",
              "    <tr>\n",
              "      <th>4</th>\n",
              "      <td>85618</td>\n",
              "      <td>Incredible continuation of an already amazing ...</td>\n",
              "      <td>1</td>\n",
              "    </tr>\n",
              "  </tbody>\n",
              "</table>\n",
              "</div>"
            ],
            "text/plain": [
              "      Id                                             Review  Label\n",
              "0  85614                               wonderful experience      1\n",
              "1  85615  I took this course about 10 years off the coll...      1\n",
              "2  85616  This series is really the course you need to t...      1\n",
              "3  85617  Not as good as part (a). But still a great class!      1\n",
              "4  85618  Incredible continuation of an already amazing ...      1"
            ]
          },
          "metadata": {
            "tags": []
          },
          "execution_count": 159
        }
      ]
    },
    {
      "cell_type": "code",
      "metadata": {
        "colab": {
          "base_uri": "https://localhost:8080/"
        },
        "id": "-YQu7ifzJcbf",
        "outputId": "3ae74914-484d-418c-8dd9-ccbbbce01454"
      },
      "source": [
        "test.count()"
      ],
      "execution_count": 161,
      "outputs": [
        {
          "output_type": "execute_result",
          "data": {
            "text/plain": [
              "Id        21404\n",
              "Review    21404\n",
              "Label     21404\n",
              "dtype: int64"
            ]
          },
          "metadata": {
            "tags": []
          },
          "execution_count": 161
        }
      ]
    },
    {
      "cell_type": "markdown",
      "metadata": {
        "id": "mBj41rVuKrqk"
      },
      "source": [
        "Remove punctuations"
      ]
    },
    {
      "cell_type": "code",
      "metadata": {
        "id": "mWhkC1KNKuCy"
      },
      "source": [
        "import string\n",
        "def remove_punctuation(review):\n",
        "  non_punctuated = [x for x in review if x not in string.punctuation]\n",
        "  non_punctuated = ''.join(non_punctuated)\n",
        "  return non_punctuated"
      ],
      "execution_count": 162,
      "outputs": []
    },
    {
      "cell_type": "markdown",
      "metadata": {
        "id": "fl6VCYH_Kys0"
      },
      "source": [
        "Nltk stopwords"
      ]
    },
    {
      "cell_type": "markdown",
      "metadata": {
        "id": "7b6GrYqJK7HC"
      },
      "source": [
        "Remove stopwords"
      ]
    },
    {
      "cell_type": "code",
      "metadata": {
        "id": "s54SO-PTK86R"
      },
      "source": [
        "from nltk.corpus import stopwords\n",
        "def remove_stopwords(reviews):\n",
        "  stop_words = set(stopwords.words('english')) - set(['not', 'off'])\n",
        "  return [word for word in reviews.split() if word.lower() not in stop_words]"
      ],
      "execution_count": 165,
      "outputs": []
    },
    {
      "cell_type": "markdown",
      "metadata": {
        "id": "xwehaOC9LBQf"
      },
      "source": [
        "Tokenize reviews"
      ]
    },
    {
      "cell_type": "code",
      "metadata": {
        "id": "90aa5mmtLCpo"
      },
      "source": [
        "def tokenization(review):\n",
        "  s = remove_punctuation(review)\n",
        "  tokens = remove_stopwords(s)\n",
        "  tokens = [i.lower() for i in tokens]\n",
        "  return tokens"
      ],
      "execution_count": 166,
      "outputs": []
    },
    {
      "cell_type": "markdown",
      "metadata": {
        "id": "GKDfrjmZJgNP"
      },
      "source": [
        "Naive Bayes Algorithm"
      ]
    },
    {
      "cell_type": "markdown",
      "metadata": {
        "id": "nQ6cRjyvMfBF"
      },
      "source": [
        "function **train** which implements the naive Bayes algorithm. It takes in parameters D (the training document) and C (a list containing the classes) and returns the loglikelihood, logprior and V (a set of vocabulary)"
      ]
    },
    {
      "cell_type": "code",
      "metadata": {
        "id": "w3MpeAsYJic0"
      },
      "source": [
        "def training(D, C):\n",
        "  N_doc = len(D)  #number of documents (reviews) in D\n",
        "  #N_c = {}  #number of documents from D in class c\n",
        "  #intitialising dictionary to hold logpriors\n",
        "  log_priors = {x:0 for x in C}\n",
        "\n",
        "  #intitialising dictionary to hold loglikelihoods\n",
        "  log_likelihood = {x:{} for x in C} \n",
        "\n",
        "  Vocabulary = [] #Vocabulary initialised empty\n",
        "  big_doc_c = {k:{} for k in C} \n",
        "  D['Review'] = D['Review'].apply(lambda review: tokenization(review))\n",
        "\n",
        "  for c in C:\n",
        "    class_reviews = training_set[training_set['Label']==c]  # all reviews belonging to a class\n",
        "    N_c = len(class_reviews)  # number of reviews belonging to a particular class\n",
        "    log_priors[c] = math.log(N_c/N_doc) # log prior of c\n",
        "\n",
        "    for i, j in class_reviews.iterrows():\n",
        "      temp = j['Review']\n",
        "      for word in temp:\n",
        "        if word not in big_doc_c[c].keys():\n",
        "          big_doc_c[c][word] = 0  # append(d) for d in D with class c\n",
        "        big_doc_c[c][word] += 1   # increase word count\n",
        "        Vocabulary.append(word)\n",
        "  \n",
        "  count = 0\n",
        "  for c in C:\n",
        "    count = sum(big_doc_c[c].values())\n",
        "    Vocabulary = set(Vocabulary)  # only unique words in vocabulary\n",
        "    for token in Vocabulary:\n",
        "      count_w_c_in_V = 0\n",
        "      if token in big_doc_c[c]:\n",
        "        count_w_c_in_V = big_doc_c[c][token]\n",
        "      log_likelihood[c][token] = math.log((count_w_c_in_V + 1)/(count + len(Vocabulary))) #loglikelihoods for each word in a partlicular class\n",
        "  return log_priors, log_likelihood, Vocabulary"
      ],
      "execution_count": 167,
      "outputs": []
    },
    {
      "cell_type": "markdown",
      "metadata": {
        "id": "7b5VrfhRJvLj"
      },
      "source": [
        "Training"
      ]
    },
    {
      "cell_type": "code",
      "metadata": {
        "id": "WF-fq-uCJxxI"
      },
      "source": [
        "C = np.unique(dataset['Label'].values)\n",
        "logprior, loglikelihood, V = training(training_set, C)"
      ],
      "execution_count": 168,
      "outputs": []
    },
    {
      "cell_type": "markdown",
      "metadata": {
        "id": "045FUU3pMbZ4"
      },
      "source": [
        "function** predict** which implements the prediction or test function for the naive Bayes algorithm."
      ]
    },
    {
      "cell_type": "code",
      "metadata": {
        "id": "Li06UJg-MU99"
      },
      "source": [
        "def predict(testdoc, logprior, loglikelihood, C, V):\n",
        "  sum_c = {c:logprior[c] for c in C}\n",
        "  for c in C:\n",
        "    for word in tokenization(testdoc):\n",
        "      if word in V:\n",
        "        sum_c[c] += loglikelihood[c][word]\n",
        "\n",
        " #arg_max of sum_c  #key (class) with the largest value\n",
        "  v = list(sum_c.values())\n",
        "  k = list(sum_c.keys())\n",
        "  chosen_class = k[v.index(max(v))] #return the key with the largest values\n",
        "  if(chosen_class == 0):\n",
        "    return 0\n",
        "  else:\n",
        "    return 1"
      ],
      "execution_count": 169,
      "outputs": []
    },
    {
      "cell_type": "markdown",
      "metadata": {
        "id": "joDLAqKLMmQX"
      },
      "source": [
        "Testing"
      ]
    },
    {
      "cell_type": "code",
      "metadata": {
        "id": "PW6sUj7nMnSO"
      },
      "source": [
        "predictions = []\n",
        "for i in test['Review'].values:\n",
        "  sentiment = predict(i, logprior, loglikelihood, C, V)\n",
        "  predictions.append(sentiment)\n",
        "  #print(i, sentiment)\n",
        "test['Implemented Naive Bayes'] = predictions"
      ],
      "execution_count": 170,
      "outputs": []
    },
    {
      "cell_type": "code",
      "metadata": {
        "colab": {
          "base_uri": "https://localhost:8080/",
          "height": 343
        },
        "id": "banWURx9QDIb",
        "outputId": "6503a5ef-548a-402b-8107-36b24662fd91"
      },
      "source": [
        "test.tail(10)"
      ],
      "execution_count": 171,
      "outputs": [
        {
          "output_type": "execute_result",
          "data": {
            "text/html": [
              "<div>\n",
              "<style scoped>\n",
              "    .dataframe tbody tr th:only-of-type {\n",
              "        vertical-align: middle;\n",
              "    }\n",
              "\n",
              "    .dataframe tbody tr th {\n",
              "        vertical-align: top;\n",
              "    }\n",
              "\n",
              "    .dataframe thead th {\n",
              "        text-align: right;\n",
              "    }\n",
              "</style>\n",
              "<table border=\"1\" class=\"dataframe\">\n",
              "  <thead>\n",
              "    <tr style=\"text-align: right;\">\n",
              "      <th></th>\n",
              "      <th>Id</th>\n",
              "      <th>Review</th>\n",
              "      <th>Label</th>\n",
              "      <th>Implemented Naive Bayes</th>\n",
              "    </tr>\n",
              "  </thead>\n",
              "  <tbody>\n",
              "    <tr>\n",
              "      <th>21394</th>\n",
              "      <td>107008</td>\n",
              "      <td>The great course. I hope that prof. Brook we c...</td>\n",
              "      <td>1</td>\n",
              "      <td>1</td>\n",
              "    </tr>\n",
              "    <tr>\n",
              "      <th>21395</th>\n",
              "      <td>107009</td>\n",
              "      <td>Excellent course!Will use information to help ...</td>\n",
              "      <td>1</td>\n",
              "      <td>1</td>\n",
              "    </tr>\n",
              "    <tr>\n",
              "      <th>21396</th>\n",
              "      <td>107010</td>\n",
              "      <td>For those interested in taking exams, these qu...</td>\n",
              "      <td>0</td>\n",
              "      <td>1</td>\n",
              "    </tr>\n",
              "    <tr>\n",
              "      <th>21397</th>\n",
              "      <td>107011</td>\n",
              "      <td>This course is awesome. It introduce the Zika ...</td>\n",
              "      <td>1</td>\n",
              "      <td>1</td>\n",
              "    </tr>\n",
              "    <tr>\n",
              "      <th>21398</th>\n",
              "      <td>107012</td>\n",
              "      <td>Great, clear, concise, explanations on everyth...</td>\n",
              "      <td>1</td>\n",
              "      <td>1</td>\n",
              "    </tr>\n",
              "    <tr>\n",
              "      <th>21399</th>\n",
              "      <td>107013</td>\n",
              "      <td>Trendy topic with talks from expertises in the...</td>\n",
              "      <td>1</td>\n",
              "      <td>1</td>\n",
              "    </tr>\n",
              "    <tr>\n",
              "      <th>21400</th>\n",
              "      <td>107014</td>\n",
              "      <td>Wonderful! Simple and clear language, good ins...</td>\n",
              "      <td>1</td>\n",
              "      <td>1</td>\n",
              "    </tr>\n",
              "    <tr>\n",
              "      <th>21401</th>\n",
              "      <td>107015</td>\n",
              "      <td>an interesting and fun course. thanks. dr quincy</td>\n",
              "      <td>1</td>\n",
              "      <td>1</td>\n",
              "    </tr>\n",
              "    <tr>\n",
              "      <th>21402</th>\n",
              "      <td>107016</td>\n",
              "      <td>very broad perspective, up to date information...</td>\n",
              "      <td>1</td>\n",
              "      <td>1</td>\n",
              "    </tr>\n",
              "    <tr>\n",
              "      <th>21403</th>\n",
              "      <td>107017</td>\n",
              "      <td>An informative course on the social and financ...</td>\n",
              "      <td>1</td>\n",
              "      <td>1</td>\n",
              "    </tr>\n",
              "  </tbody>\n",
              "</table>\n",
              "</div>"
            ],
            "text/plain": [
              "           Id  ... Implemented Naive Bayes\n",
              "21394  107008  ...                       1\n",
              "21395  107009  ...                       1\n",
              "21396  107010  ...                       1\n",
              "21397  107011  ...                       1\n",
              "21398  107012  ...                       1\n",
              "21399  107013  ...                       1\n",
              "21400  107014  ...                       1\n",
              "21401  107015  ...                       1\n",
              "21402  107016  ...                       1\n",
              "21403  107017  ...                       1\n",
              "\n",
              "[10 rows x 4 columns]"
            ]
          },
          "metadata": {
            "tags": []
          },
          "execution_count": 171
        }
      ]
    },
    {
      "cell_type": "code",
      "metadata": {
        "colab": {
          "base_uri": "https://localhost:8080/"
        },
        "id": "DYfebWKcQSxA",
        "outputId": "720f8a2f-7d8c-424b-ac6f-328ef680ea1e"
      },
      "source": [
        "sen = predict('very bad tutorial', logprior, loglikelihood, C, V)\n",
        "print(sen)"
      ],
      "execution_count": 172,
      "outputs": [
        {
          "output_type": "stream",
          "text": [
            "1\n"
          ],
          "name": "stdout"
        }
      ]
    }
  ]
}